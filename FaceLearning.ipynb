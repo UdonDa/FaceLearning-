{
 "cells": [
  {
   "cell_type": "code",
   "execution_count": 44,
   "metadata": {
    "collapsed": false
   },
   "outputs": [],
   "source": [
    "###　必要な情報を登録するよーん\n",
    "\n",
    "#APIキー\n",
    "api_key = \"自分の登録してください\"\n",
    "\n",
    "# 登録したい名前\n",
    "name = \"DaichiHorita\"\n",
    "# その人の特徴\n",
    "userData = \"nemusou\""
   ]
  },
  {
   "cell_type": "code",
   "execution_count": 34,
   "metadata": {
    "collapsed": false
   },
   "outputs": [
    {
     "name": "stdout",
     "output_type": "stream",
     "text": [
      "{'personId': '15e736ca-961f-476c-9861-30f3e13b6bab'}\n"
     ]
    }
   ],
   "source": [
    "### 人を登録する\n",
    "\n",
    "\n",
    "\n",
    "import http.client, urllib.request, urllib.parse, urllib.error, base64\n",
    "import json\n",
    "\n",
    "headers = {\n",
    "    # Request headers\n",
    "    'Content-Type': 'application/json',\n",
    "    'Ocp-Apim-Subscription-Key': api_key,\n",
    "}\n",
    "\n",
    "params = json.dumps({\n",
    "    \"name\":name,\n",
    "    \"userData\":userData\n",
    "})\n",
    "\n",
    "try:\n",
    "    conn = http.client.HTTPSConnection('westus.api.cognitive.microsoft.com')\n",
    "    conn.request(\"POST\", \"/face/v1.0/persongroups/5000/persons\", params, headers)\n",
    "    response = conn.getresponse()\n",
    "    data = json.loads(response.read().decode(\"utf-8\"))\n",
    "    print(data)\n",
    "    personId = data[\"personId\"]\n",
    "    conn.close()\n",
    "except Exception as e:\n",
    "    print(\"[Errno {0}] {1}\".format(e.errno, e.strerror))"
   ]
  },
  {
   "cell_type": "code",
   "execution_count": 41,
   "metadata": {
    "collapsed": false
   },
   "outputs": [
    {
     "name": "stdout",
     "output_type": "stream",
     "text": [
      "{'persistedFaceId': '8dd8cd9c-937b-4038-bde3-985d79ee1f90'}\n",
      "8dd8cd9c-937b-4038-bde3-985d79ee1f90\n"
     ]
    }
   ],
   "source": [
    "### 人の顔を登録するよーん\n",
    "\n",
    "\n",
    "\n",
    "import http.client, urllib.request, urllib.parse, urllib.error, base64, json, struct\n",
    "\n",
    "headers = {\n",
    "    # Request headers\n",
    "    'Content-Type': 'application/octet-stream',\n",
    "    'Ocp-Apim-Subscription-Key': api_key,\n",
    "}\n",
    "\n",
    "# 登録したい画像を指定\n",
    "png_data = open(\"test.png\", \"rb\").read()\n",
    "try:\n",
    "    conn = http.client.HTTPSConnection('westus.api.cognitive.microsoft.com')\n",
    "    conn.request(\"POST\", \"/face/v1.0/persongroups/5000/persons/%s/persistedFaces\" % personId, png_data, headers)\n",
    "    response = conn.getresponse()\n",
    "    data = json.loads(response.read().decode(\"utf-8\"))\n",
    "    print(data)\n",
    "    persistedFaceId = data[\"persistedFaceId\"]\n",
    "    conn.close()\n",
    "except Exception as e:\n",
    "    print(\"[Errno {0}] {1}\".format(e.errno, e.strerror))"
   ]
  },
  {
   "cell_type": "code",
   "execution_count": 43,
   "metadata": {
    "collapsed": false
   },
   "outputs": [],
   "source": [
    "### 学習する\n",
    "\n",
    "\n",
    "import http.client, urllib.request, urllib.parse, urllib.error, base64, json\n",
    "\n",
    "headers = {\n",
    "    'Ocp-Apim-Subscription-Key': api_key,\n",
    "}\n",
    "\n",
    "params = urllib.parse.urlencode({\n",
    "})\n",
    "\n",
    "try:\n",
    "    conn = http.client.HTTPSConnection('westus.api.cognitive.microsoft.com')\n",
    "    conn.request(\"POST\", \"/face/v1.0/persongroups/5000/train\", params, headers)\n",
    "    response = conn.getresponse()\n",
    "    conn.close()\n",
    "except Exception as e:\n",
    "    print(\"[Errno {0}] {1}\".format(e.errno, e.strerror))"
   ]
  },
  {
   "cell_type": "code",
   "execution_count": 53,
   "metadata": {
    "collapsed": false
   },
   "outputs": [
    {
     "name": "stdout",
     "output_type": "stream",
     "text": [
      "[{'faceId': 'd6c78fbc-b34d-4731-9150-232691c50c58', 'faceRectangle': {'left': 17, 'width': 143, 'top': 41, 'height': 143}}]\n",
      "d6c78fbc-b34d-4731-9150-232691c50c58\n"
     ]
    }
   ],
   "source": [
    "### 学習データと照らし合わせるために、\n",
    "### 比較画像から顔を抽出\n",
    "\n",
    "\n",
    "\n",
    "import http.client, urllib.request, urllib.parse, urllib.error, base64, json\n",
    "\n",
    "headers = {\n",
    "    # Request headers\n",
    "    'Content-Type': 'application/octet-stream',\n",
    "    'Ocp-Apim-Subscription-Key': api_key,\n",
    "}\n",
    "\n",
    "# 比較したい画像\n",
    "png_data_1 = open(\"images.jpeg\", \"rb\").read()\n",
    "\n",
    "try:\n",
    "    conn = http.client.HTTPSConnection('westus.api.cognitive.microsoft.com')\n",
    "    conn.request(\"POST\", \"/face/v1.0/detect\" , png_data_1, headers)\n",
    "    response = conn.getresponse()\n",
    "    data = json.loads(response.read().decode(\"utf-8\"))\n",
    "    print(data)\n",
    "    faceId = data[0][\"faceId\"]\n",
    "    print(faceId)\n",
    "    conn.close()\n",
    "except Exception as e:\n",
    "    print(\"[Errno {0}] {1}\".format(e.errno, e.strerror))"
   ]
  },
  {
   "cell_type": "code",
   "execution_count": 66,
   "metadata": {
    "collapsed": false
   },
   "outputs": [
    {
     "name": "stdout",
     "output_type": "stream",
     "text": [
      "この画像は60.056パーセントの正答率です\n"
     ]
    }
   ],
   "source": [
    "### さっき顔を切り取ったやつを使って、学習データと比較\n",
    "\n",
    "\n",
    "\n",
    "import http.client, urllib.request, urllib.parse, urllib.error, base64, json\n",
    "\n",
    "headers = {\n",
    "    # Request headers\n",
    "    'Content-Type': 'application/json',\n",
    "    'Ocp-Apim-Subscription-Key': api_key,\n",
    "}\n",
    "\n",
    "params = json.dumps({\n",
    "        \"personGroupId\":\"5000\" ,\n",
    "        \"faceIds\": [faceId] ,\n",
    "        \"maxNumOfCandidatesReturned\":1,\n",
    "        \"confidenceThreshold\": 0.5\n",
    "})\n",
    "\n",
    "try:\n",
    "    conn = http.client.HTTPSConnection('westus.api.cognitive.microsoft.com')\n",
    "    conn.request(\"POST\", \"/face/v1.0/identify\", params, headers)\n",
    "    response = conn.getresponse()\n",
    "    data = json.loads(response.read().decode(\"utf-8\"))\n",
    "    #print(data)\n",
    "    result = data[0][\"candidates\"][0][\"confidence\"]\n",
    "    result2 = result * 100\n",
    "    print(\"この画像は%sパーセントの正答率です\" % result2)\n",
    "    \n",
    "    conn.close()\n",
    "except Exception as e:\n",
    "    print(\"[Errno {0}] {1}\".format(e.errno, e.strerror))"
   ]
  },
  {
   "cell_type": "code",
   "execution_count": 67,
   "metadata": {
    "collapsed": false
   },
   "outputs": [
    {
     "name": "stdout",
     "output_type": "stream",
     "text": [
      "b'{\"personId\":\"15e736ca-961f-476c-9861-30f3e13b6bab\",\"persistedFaceIds\":[\"453f6635-a58e-4f6b-b785-4f5fde2d1b17\",\"83d54327-6ca4-4773-8ba8-798735cbb82b\",\"8dd8cd9c-937b-4038-bde3-985d79ee1f90\",\"dfb72c55-5a64-42ff-97a3-222fdd83823c\",\"e4ea035e-7411-4d0a-a7fd-1e7b5d56f514\",\"eab31fb5-0441-446c-bed8-8fcc5a0c6da7\",\"ef8162f9-042b-41f0-839a-a16adabbb978\"],\"name\":\"KoichiMatsumura\",\"userData\":\"nemusou\"}'\n"
     ]
    }
   ],
   "source": [
    "### 学習データを確認する\n",
    "\n",
    "\n",
    "\n",
    "import http.client, urllib.request, urllib.parse, urllib.error, base64, json\n",
    "\n",
    "headers = {\n",
    "    # Request headers\n",
    "    'Ocp-Apim-Subscription-Key': api_key,\n",
    "}\n",
    "\n",
    "params = urllib.parse.urlencode({\n",
    "})\n",
    "\n",
    "try:\n",
    "    conn = http.client.HTTPSConnection('westus.api.cognitive.microsoft.com')\n",
    "    conn.request(\"GET\", \"/face/v1.0/persongroups/5000/persons/%s\" % personId, params, headers)\n",
    "    response = conn.getresponse()\n",
    "    data = response.read()\n",
    "    print(data)\n",
    "    conn.close()\n",
    "except Exception as e:\n",
    "    print(\"[Errno {0}] {1}\".format(e.errno, e.strerror))"
   ]
  },
  {
   "cell_type": "code",
   "execution_count": null,
   "metadata": {
    "collapsed": true
   },
   "outputs": [],
   "source": []
  }
 ],
 "metadata": {
  "anaconda-cloud": {},
  "kernelspec": {
   "display_name": "Python [conda root]",
   "language": "python",
   "name": "conda-root-py"
  },
  "language_info": {
   "codemirror_mode": {
    "name": "ipython",
    "version": 3
   },
   "file_extension": ".py",
   "mimetype": "text/x-python",
   "name": "python",
   "nbconvert_exporter": "python",
   "pygments_lexer": "ipython3",
   "version": "3.5.2"
  }
 },
 "nbformat": 4,
 "nbformat_minor": 1
}
